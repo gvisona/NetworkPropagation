{
 "cells": [
  {
   "cell_type": "code",
   "execution_count": 1,
   "metadata": {},
   "outputs": [],
   "source": [
    "import pandas as pd\n",
    "import numpy as np\n",
    "from tqdm.notebook import tqdm\n",
    "import json"
   ]
  },
  {
   "cell_type": "markdown",
   "metadata": {},
   "source": [
    "# Using gene scores"
   ]
  },
  {
   "cell_type": "code",
   "execution_count": 3,
   "metadata": {},
   "outputs": [],
   "source": [
    "alphas = [0.1, 0.2, 0.3, 0.5, 0.7, 0.9]\n",
    "diseases = [\"asthma\", \"autism\", \"schizophrenia\"]\n",
    "networks = [\"PCNet\", \"ProteomeHD\", \"HumanNet\", \"BioPlex3\", \"STRING\"]\n",
    "\n",
    "# rwrs_scores_results = pd.read_csv(\"outputs/results_RWRs/RWRs_gene_scores_single_nets.csv\")\n",
    "# rwrs_scores_results\n"
   ]
  },
  {
   "cell_type": "code",
   "execution_count": 14,
   "metadata": {},
   "outputs": [
    {
     "name": "stdout",
     "output_type": "stream",
     "text": [
      "asthma\n",
      "Alpha:  0.1\n"
     ]
    },
    {
     "data": {
      "application/vnd.jupyter.widget-view+json": {
       "model_id": "e83cf4a2386c49b9955d87fab2759cf8",
       "version_major": 2,
       "version_minor": 0
      },
      "text/plain": [
       "  0%|          | 0/5 [00:00<?, ?it/s]"
      ]
     },
     "metadata": {},
     "output_type": "display_data"
    },
    {
     "name": "stdout",
     "output_type": "stream",
     "text": [
      "Alpha:  0.2\n"
     ]
    },
    {
     "data": {
      "application/vnd.jupyter.widget-view+json": {
       "model_id": "489aec89a581499e9cd8403d8d2808eb",
       "version_major": 2,
       "version_minor": 0
      },
      "text/plain": [
       "  0%|          | 0/5 [00:00<?, ?it/s]"
      ]
     },
     "metadata": {},
     "output_type": "display_data"
    },
    {
     "name": "stdout",
     "output_type": "stream",
     "text": [
      "Alpha:  0.3\n"
     ]
    },
    {
     "data": {
      "application/vnd.jupyter.widget-view+json": {
       "model_id": "50f40fb0d0524dddaeecfa7b71a6ba7e",
       "version_major": 2,
       "version_minor": 0
      },
      "text/plain": [
       "  0%|          | 0/5 [00:00<?, ?it/s]"
      ]
     },
     "metadata": {},
     "output_type": "display_data"
    },
    {
     "name": "stdout",
     "output_type": "stream",
     "text": [
      "Alpha:  0.5\n"
     ]
    },
    {
     "data": {
      "application/vnd.jupyter.widget-view+json": {
       "model_id": "8760bd214e6e49c9845f89ebf1c62b16",
       "version_major": 2,
       "version_minor": 0
      },
      "text/plain": [
       "  0%|          | 0/5 [00:00<?, ?it/s]"
      ]
     },
     "metadata": {},
     "output_type": "display_data"
    },
    {
     "name": "stdout",
     "output_type": "stream",
     "text": [
      "Alpha:  0.7\n"
     ]
    },
    {
     "data": {
      "application/vnd.jupyter.widget-view+json": {
       "model_id": "99f7127e8a154782976442067dedd475",
       "version_major": 2,
       "version_minor": 0
      },
      "text/plain": [
       "  0%|          | 0/5 [00:00<?, ?it/s]"
      ]
     },
     "metadata": {},
     "output_type": "display_data"
    },
    {
     "name": "stdout",
     "output_type": "stream",
     "text": [
      "Alpha:  0.9\n"
     ]
    },
    {
     "data": {
      "application/vnd.jupyter.widget-view+json": {
       "model_id": "72981b97430948be9788bbc4fba0d5e1",
       "version_major": 2,
       "version_minor": 0
      },
      "text/plain": [
       "  0%|          | 0/5 [00:00<?, ?it/s]"
      ]
     },
     "metadata": {},
     "output_type": "display_data"
    },
    {
     "name": "stdout",
     "output_type": "stream",
     "text": [
      "autism\n",
      "Alpha:  0.1\n"
     ]
    },
    {
     "data": {
      "application/vnd.jupyter.widget-view+json": {
       "model_id": "a9aee2cb6ecd4e39bc172e778f28aced",
       "version_major": 2,
       "version_minor": 0
      },
      "text/plain": [
       "  0%|          | 0/5 [00:00<?, ?it/s]"
      ]
     },
     "metadata": {},
     "output_type": "display_data"
    },
    {
     "name": "stdout",
     "output_type": "stream",
     "text": [
      "Alpha:  0.2\n"
     ]
    },
    {
     "data": {
      "application/vnd.jupyter.widget-view+json": {
       "model_id": "f3ef700398bd4fdfa94585fe27b4a877",
       "version_major": 2,
       "version_minor": 0
      },
      "text/plain": [
       "  0%|          | 0/5 [00:00<?, ?it/s]"
      ]
     },
     "metadata": {},
     "output_type": "display_data"
    },
    {
     "name": "stdout",
     "output_type": "stream",
     "text": [
      "Alpha:  0.3\n"
     ]
    },
    {
     "data": {
      "application/vnd.jupyter.widget-view+json": {
       "model_id": "221d97a533324078a4cd487ab9b6b1df",
       "version_major": 2,
       "version_minor": 0
      },
      "text/plain": [
       "  0%|          | 0/5 [00:00<?, ?it/s]"
      ]
     },
     "metadata": {},
     "output_type": "display_data"
    },
    {
     "name": "stdout",
     "output_type": "stream",
     "text": [
      "Alpha:  0.5\n"
     ]
    },
    {
     "data": {
      "application/vnd.jupyter.widget-view+json": {
       "model_id": "3447e7d6d450480fb26a97b433625209",
       "version_major": 2,
       "version_minor": 0
      },
      "text/plain": [
       "  0%|          | 0/5 [00:00<?, ?it/s]"
      ]
     },
     "metadata": {},
     "output_type": "display_data"
    },
    {
     "name": "stdout",
     "output_type": "stream",
     "text": [
      "Alpha:  0.7\n"
     ]
    },
    {
     "data": {
      "application/vnd.jupyter.widget-view+json": {
       "model_id": "64428bab985f4b3a8c262e72573ad058",
       "version_major": 2,
       "version_minor": 0
      },
      "text/plain": [
       "  0%|          | 0/5 [00:00<?, ?it/s]"
      ]
     },
     "metadata": {},
     "output_type": "display_data"
    },
    {
     "name": "stdout",
     "output_type": "stream",
     "text": [
      "Alpha:  0.9\n"
     ]
    },
    {
     "data": {
      "application/vnd.jupyter.widget-view+json": {
       "model_id": "c06e841d7dcf4a658b90e7c34edb006a",
       "version_major": 2,
       "version_minor": 0
      },
      "text/plain": [
       "  0%|          | 0/5 [00:00<?, ?it/s]"
      ]
     },
     "metadata": {},
     "output_type": "display_data"
    },
    {
     "name": "stdout",
     "output_type": "stream",
     "text": [
      "schizophrenia\n",
      "Alpha:  0.1\n"
     ]
    },
    {
     "data": {
      "application/vnd.jupyter.widget-view+json": {
       "model_id": "0ceec1cf86dc4c359ef33d3c3ec97508",
       "version_major": 2,
       "version_minor": 0
      },
      "text/plain": [
       "  0%|          | 0/5 [00:00<?, ?it/s]"
      ]
     },
     "metadata": {},
     "output_type": "display_data"
    },
    {
     "name": "stdout",
     "output_type": "stream",
     "text": [
      "Alpha:  0.2\n"
     ]
    },
    {
     "data": {
      "application/vnd.jupyter.widget-view+json": {
       "model_id": "bf574d8478ff4908bea89ea5a73f2351",
       "version_major": 2,
       "version_minor": 0
      },
      "text/plain": [
       "  0%|          | 0/5 [00:00<?, ?it/s]"
      ]
     },
     "metadata": {},
     "output_type": "display_data"
    },
    {
     "name": "stdout",
     "output_type": "stream",
     "text": [
      "Alpha:  0.3\n"
     ]
    },
    {
     "data": {
      "application/vnd.jupyter.widget-view+json": {
       "model_id": "6f540c0f5e7941c482b96189bb718e26",
       "version_major": 2,
       "version_minor": 0
      },
      "text/plain": [
       "  0%|          | 0/5 [00:00<?, ?it/s]"
      ]
     },
     "metadata": {},
     "output_type": "display_data"
    },
    {
     "name": "stdout",
     "output_type": "stream",
     "text": [
      "Alpha:  0.5\n"
     ]
    },
    {
     "data": {
      "application/vnd.jupyter.widget-view+json": {
       "model_id": "96e095de8d2944ba9b2954ef399d9c66",
       "version_major": 2,
       "version_minor": 0
      },
      "text/plain": [
       "  0%|          | 0/5 [00:00<?, ?it/s]"
      ]
     },
     "metadata": {},
     "output_type": "display_data"
    },
    {
     "name": "stdout",
     "output_type": "stream",
     "text": [
      "Alpha:  0.7\n"
     ]
    },
    {
     "data": {
      "application/vnd.jupyter.widget-view+json": {
       "model_id": "486f4ad5aa0349be9ae0035c6d597244",
       "version_major": 2,
       "version_minor": 0
      },
      "text/plain": [
       "  0%|          | 0/5 [00:00<?, ?it/s]"
      ]
     },
     "metadata": {},
     "output_type": "display_data"
    },
    {
     "name": "stdout",
     "output_type": "stream",
     "text": [
      "Alpha:  0.9\n"
     ]
    },
    {
     "data": {
      "application/vnd.jupyter.widget-view+json": {
       "model_id": "2c94a3c92af34cdab34324fb42ef0832",
       "version_major": 2,
       "version_minor": 0
      },
      "text/plain": [
       "  0%|          | 0/5 [00:00<?, ?it/s]"
      ]
     },
     "metadata": {},
     "output_type": "display_data"
    }
   ],
   "source": [
    "for disease in diseases:\n",
    "    print(disease)\n",
    "    for alpha in alphas:\n",
    "        print(\"Alpha: \", alpha)\n",
    "        genes_ranks = {}\n",
    "        genes_scores = {}\n",
    "\n",
    "        for net in tqdm(networks):\n",
    "            df = pd.read_csv(\"outputs/RWRs_scores/{}_{}_alpha{}_results.csv\".format(disease, net, alpha))\n",
    "            rank = 0\n",
    "            for i, row in df.iterrows():\n",
    "                gn = str(row[\"Gene NCBI ID\"])\n",
    "                rank += 1\n",
    "                if gn not in genes_ranks:\n",
    "                    genes_ranks[gn] = [rank]\n",
    "                else:\n",
    "                    genes_ranks[gn].append(rank)\n",
    "\n",
    "\n",
    "                if gn not in genes_scores:\n",
    "                    genes_scores[gn] = [row[\"Final Score\"]]\n",
    "                else:\n",
    "                    genes_scores[gn].append(row[\"Final Score\"])\n",
    "                \n",
    "        genes_ranks_df = []\n",
    "        for k, v in genes_ranks.items():\n",
    "            if len(v)<3:\n",
    "                continue\n",
    "            genes_ranks_df.append({\"Gene NCBI ID\": k, \"Avg. Rank\": np.mean(v), \"Method\": \"Score\", \"Disease\": disease, \"Alpha\": alpha})\n",
    "        genes_ranks_df = pd.DataFrame(genes_ranks_df).sort_values(by=\"Avg. Rank\", ascending=True)\n",
    "        genes_ranks_df.to_csv(\"outputs/AVG_RWRs_gene_scores/{}_avg_rank_alpha{}.csv\".format(disease, alpha), index=False)\n",
    "\n",
    "        genes_scores_df = []\n",
    "        for k, v in genes_scores.items():\n",
    "            if len(v)<3:\n",
    "                continue\n",
    "            genes_scores_df.append({\"Gene NCBI ID\": k, \"Avg. Score\": np.mean(v), \"Method\": \"Score\", \"Disease\": disease, \"Alpha\": alpha})\n",
    "        genes_scores_df = pd.DataFrame(genes_scores_df).sort_values(by=\"Avg. Score\", ascending=False)\n",
    "        genes_scores_df.to_csv(\"outputs/AVG_RWRs_gene_scores/{}_avg_score_alpha{}.csv\".format(disease, alpha), index=False)\n",
    "                \n",
    "            \n",
    "  \n",
    "\n",
    "#         genes_ranks_df = []\n",
    "#         for k, v in genes_ranks.items():"
   ]
  },
  {
   "cell_type": "code",
   "execution_count": 11,
   "metadata": {},
   "outputs": [
    {
     "data": {
      "text/html": [
       "<div>\n",
       "<style scoped>\n",
       "    .dataframe tbody tr th:only-of-type {\n",
       "        vertical-align: middle;\n",
       "    }\n",
       "\n",
       "    .dataframe tbody tr th {\n",
       "        vertical-align: top;\n",
       "    }\n",
       "\n",
       "    .dataframe thead th {\n",
       "        text-align: right;\n",
       "    }\n",
       "</style>\n",
       "<table border=\"1\" class=\"dataframe\">\n",
       "  <thead>\n",
       "    <tr style=\"text-align: right;\">\n",
       "      <th></th>\n",
       "      <th>Gene ID</th>\n",
       "      <th>Avg. Score</th>\n",
       "      <th>Method</th>\n",
       "      <th>Disease</th>\n",
       "      <th>Alpha</th>\n",
       "    </tr>\n",
       "  </thead>\n",
       "  <tbody>\n",
       "    <tr>\n",
       "      <th>16361</th>\n",
       "      <td>9862</td>\n",
       "      <td>3.603414e-03</td>\n",
       "      <td>Score</td>\n",
       "      <td>asthma</td>\n",
       "      <td>0.1</td>\n",
       "    </tr>\n",
       "    <tr>\n",
       "      <th>16362</th>\n",
       "      <td>5469</td>\n",
       "      <td>3.592063e-03</td>\n",
       "      <td>Score</td>\n",
       "      <td>asthma</td>\n",
       "      <td>0.1</td>\n",
       "    </tr>\n",
       "    <tr>\n",
       "      <th>16</th>\n",
       "      <td>134430</td>\n",
       "      <td>3.282738e-03</td>\n",
       "      <td>Score</td>\n",
       "      <td>asthma</td>\n",
       "      <td>0.1</td>\n",
       "    </tr>\n",
       "    <tr>\n",
       "      <th>25</th>\n",
       "      <td>10111</td>\n",
       "      <td>2.324243e-03</td>\n",
       "      <td>Score</td>\n",
       "      <td>asthma</td>\n",
       "      <td>0.1</td>\n",
       "    </tr>\n",
       "    <tr>\n",
       "      <th>38</th>\n",
       "      <td>10211</td>\n",
       "      <td>1.966977e-03</td>\n",
       "      <td>Score</td>\n",
       "      <td>asthma</td>\n",
       "      <td>0.1</td>\n",
       "    </tr>\n",
       "    <tr>\n",
       "      <th>...</th>\n",
       "      <td>...</td>\n",
       "      <td>...</td>\n",
       "      <td>...</td>\n",
       "      <td>...</td>\n",
       "      <td>...</td>\n",
       "    </tr>\n",
       "    <tr>\n",
       "      <th>16258</th>\n",
       "      <td>8269</td>\n",
       "      <td>2.589477e-07</td>\n",
       "      <td>Score</td>\n",
       "      <td>asthma</td>\n",
       "      <td>0.1</td>\n",
       "    </tr>\n",
       "    <tr>\n",
       "      <th>16193</th>\n",
       "      <td>199800</td>\n",
       "      <td>2.507622e-07</td>\n",
       "      <td>Score</td>\n",
       "      <td>asthma</td>\n",
       "      <td>0.1</td>\n",
       "    </tr>\n",
       "    <tr>\n",
       "      <th>16256</th>\n",
       "      <td>100506144</td>\n",
       "      <td>2.150723e-07</td>\n",
       "      <td>Score</td>\n",
       "      <td>asthma</td>\n",
       "      <td>0.1</td>\n",
       "    </tr>\n",
       "    <tr>\n",
       "      <th>16147</th>\n",
       "      <td>400581</td>\n",
       "      <td>1.784460e-07</td>\n",
       "      <td>Score</td>\n",
       "      <td>asthma</td>\n",
       "      <td>0.1</td>\n",
       "    </tr>\n",
       "    <tr>\n",
       "      <th>16176</th>\n",
       "      <td>102723631</td>\n",
       "      <td>1.513643e-07</td>\n",
       "      <td>Score</td>\n",
       "      <td>asthma</td>\n",
       "      <td>0.1</td>\n",
       "    </tr>\n",
       "  </tbody>\n",
       "</table>\n",
       "<p>16607 rows × 5 columns</p>\n",
       "</div>"
      ],
      "text/plain": [
       "         Gene ID    Avg. Score Method Disease  Alpha\n",
       "16361       9862  3.603414e-03  Score  asthma    0.1\n",
       "16362       5469  3.592063e-03  Score  asthma    0.1\n",
       "16        134430  3.282738e-03  Score  asthma    0.1\n",
       "25         10111  2.324243e-03  Score  asthma    0.1\n",
       "38         10211  1.966977e-03  Score  asthma    0.1\n",
       "...          ...           ...    ...     ...    ...\n",
       "16258       8269  2.589477e-07  Score  asthma    0.1\n",
       "16193     199800  2.507622e-07  Score  asthma    0.1\n",
       "16256  100506144  2.150723e-07  Score  asthma    0.1\n",
       "16147     400581  1.784460e-07  Score  asthma    0.1\n",
       "16176  102723631  1.513643e-07  Score  asthma    0.1\n",
       "\n",
       "[16607 rows x 5 columns]"
      ]
     },
     "execution_count": 11,
     "metadata": {},
     "output_type": "execute_result"
    }
   ],
   "source": [
    "genes_scores_df"
   ]
  },
  {
   "cell_type": "code",
   "execution_count": null,
   "metadata": {},
   "outputs": [],
   "source": []
  }
 ],
 "metadata": {
  "kernelspec": {
   "display_name": "Python 3",
   "language": "python",
   "name": "python3"
  },
  "language_info": {
   "codemirror_mode": {
    "name": "ipython",
    "version": 3
   },
   "file_extension": ".py",
   "mimetype": "text/x-python",
   "name": "python",
   "nbconvert_exporter": "python",
   "pygments_lexer": "ipython3",
   "version": "3.7.9"
  }
 },
 "nbformat": 4,
 "nbformat_minor": 4
}
