{
 "cells": [
  {
   "cell_type": "code",
   "execution_count": 11,
   "metadata": {},
   "outputs": [],
   "source": [
    "import pandas as pd\n",
    "import numpy as np\n",
    "import json\n",
    "import scipy.io\n",
    "import h5py"
   ]
  },
  {
   "cell_type": "code",
   "execution_count": 2,
   "metadata": {},
   "outputs": [],
   "source": [
    "network_files = {\n",
    "    \"BioPlex3\": \"processed_data/networks/BioPlex3_shared/edges_list_ncbi.csv\",\n",
    "    \"HumanNet\": \"processed_data/networks/HumanNetV3/edges_list_ncbi.csv\",\n",
    "    \"PCNet\": \"processed_data/networks/PCNet/edges_list_ncbi.csv\",\n",
    "    \"ProteomeHD\": \"processed_data/networks/ProteomeHD/edges_list_ncbi.csv\",\n",
    "    \"STRING\": \"processed_data/networks/STRING/edges_list_ncbi.csv\",\n",
    "}"
   ]
  },
  {
   "cell_type": "code",
   "execution_count": 3,
   "metadata": {},
   "outputs": [
    {
     "name": "stderr",
     "output_type": "stream",
     "text": [
      "/home/gvisona/anaconda3/envs/ml/lib/python3.7/site-packages/IPython/core/interactiveshell.py:3417: DtypeWarning: Columns (0) have mixed types.Specify dtype option on import or set low_memory=False.\n",
      "  exec(code_obj, self.user_global_ns, self.user_ns)\n"
     ]
    }
   ],
   "source": [
    "net_nodes = {}\n",
    "net_edges = {}\n",
    "for net_name, fname in network_files.items():\n",
    "    df = pd.read_csv(fname)[[\"node1\", \"node2\"]]\n",
    "    graph_nodes = set(df[\"node1\"]).union(set(df[\"node2\"]))\n",
    "    net_nodes[net_name] = len(graph_nodes)\n",
    "    net_edges[net_name] = len(df)"
   ]
  },
  {
   "cell_type": "code",
   "execution_count": 7,
   "metadata": {},
   "outputs": [],
   "source": [
    "with open(\"processed_data/networks/networks_n_nodes.json\", \"w\") as f:\n",
    "    json.dump(net_nodes, f, indent=2)\n",
    "with open(\"processed_data/networks/networks_n_edges.json\", \"w\") as f:\n",
    "    json.dump(net_edges, f, indent=2)"
   ]
  },
  {
   "cell_type": "code",
   "execution_count": 5,
   "metadata": {},
   "outputs": [
    {
     "data": {
      "text/plain": [
       "{'BioPlex3': 35704,\n",
       " 'HumanNet': 1125494,\n",
       " 'PCNet': 2693250,\n",
       " 'ProteomeHD': 63290,\n",
       " 'STRING': 420534}"
      ]
     },
     "execution_count": 5,
     "metadata": {},
     "output_type": "execute_result"
    }
   ],
   "source": [
    "net_edges"
   ]
  },
  {
   "cell_type": "code",
   "execution_count": 15,
   "metadata": {},
   "outputs": [],
   "source": [
    "a = np.loadtxt('data/MimMiner/MimMiner_Exp_AC_T_TXCS_basedonACMESH_filt_RW.mat')\n"
   ]
  },
  {
   "cell_type": "code",
   "execution_count": 16,
   "metadata": {},
   "outputs": [
    {
     "data": {
      "text/plain": [
       "array([[1.00050e+05, 1.00000e+00, 8.90344e-02, ..., 1.57154e-01,\n",
       "        1.63718e-01, 1.95514e-01],\n",
       "       [1.00070e+05, 8.90344e-02, 1.00000e+00, ..., 3.14095e-02,\n",
       "        1.37056e-01, 4.18654e-02],\n",
       "       [1.00100e+05, 3.61651e-01, 8.73663e-02, ..., 0.00000e+00,\n",
       "        0.00000e+00, 1.32642e-01],\n",
       "       ...,\n",
       "       [6.09021e+05, 1.57154e-01, 3.14095e-02, ..., 1.00000e+00,\n",
       "        5.52150e-01, 1.44883e-01],\n",
       "       [6.09026e+05, 1.63718e-01, 1.37056e-01, ..., 5.52150e-01,\n",
       "        1.00000e+00, 1.52830e-01],\n",
       "       [6.09029e+05, 1.95514e-01, 4.18654e-02, ..., 1.44883e-01,\n",
       "        1.52830e-01, 1.00000e+00]])"
      ]
     },
     "execution_count": 16,
     "metadata": {},
     "output_type": "execute_result"
    }
   ],
   "source": [
    "a"
   ]
  },
  {
   "cell_type": "code",
   "execution_count": 17,
   "metadata": {},
   "outputs": [
    {
     "data": {
      "text/plain": [
       "(5080, 5081)"
      ]
     },
     "execution_count": 17,
     "metadata": {},
     "output_type": "execute_result"
    }
   ],
   "source": [
    "a.shape"
   ]
  },
  {
   "cell_type": "code",
   "execution_count": 18,
   "metadata": {},
   "outputs": [],
   "source": [
    "omim_diseases = a[:,0].astype(int)"
   ]
  },
  {
   "cell_type": "code",
   "execution_count": 19,
   "metadata": {},
   "outputs": [
    {
     "data": {
      "text/plain": [
       "array([100050, 100070, 100100, ..., 609021, 609026, 609029])"
      ]
     },
     "execution_count": 19,
     "metadata": {},
     "output_type": "execute_result"
    }
   ],
   "source": [
    "omim_diseases"
   ]
  },
  {
   "cell_type": "code",
   "execution_count": null,
   "metadata": {},
   "outputs": [],
   "source": []
  }
 ],
 "metadata": {
  "kernelspec": {
   "display_name": "Python 3",
   "language": "python",
   "name": "python3"
  },
  "language_info": {
   "codemirror_mode": {
    "name": "ipython",
    "version": 3
   },
   "file_extension": ".py",
   "mimetype": "text/x-python",
   "name": "python",
   "nbconvert_exporter": "python",
   "pygments_lexer": "ipython3",
   "version": "3.7.9"
  }
 },
 "nbformat": 4,
 "nbformat_minor": 4
}
