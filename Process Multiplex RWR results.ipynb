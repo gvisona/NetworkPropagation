{
 "cells": [
  {
   "cell_type": "code",
   "execution_count": 1,
   "metadata": {},
   "outputs": [],
   "source": [
    "import pandas as pd\n",
    "import numpy as np\n",
    "import json\n",
    "import os\n",
    "from tqdm.notebook import tqdm"
   ]
  },
  {
   "cell_type": "code",
   "execution_count": 2,
   "metadata": {},
   "outputs": [],
   "source": [
    "# disease = \"asthma\"\n",
    "K_values = [5, 10, 20, 50, 100]\n",
    "alpha_array = [0.1, 0.2, 0.3, 0.5, 0.7, 0.9]"
   ]
  },
  {
   "cell_type": "code",
   "execution_count": 3,
   "metadata": {},
   "outputs": [],
   "source": [
    "# for disease in [\"asthma\", \"autism\", \"schizophrenia\"]:\n",
    "#     with open(\"processed_data/gwas_catalog_targets/{}_targets_gene2ncbi.json\".format(disease), \"r\") as f:\n",
    "#         catalog_targets_gene2ncbi = json.load(f)\n",
    "#     ncbi_targets = list(catalog_targets_gene2ncbi.values())\n",
    "#     print(disease, len(ncbi_targets))"
   ]
  },
  {
   "cell_type": "code",
   "execution_count": 4,
   "metadata": {},
   "outputs": [],
   "source": [
    "def precision_at_k(targets, predictions, K=None):\n",
    "    if K is not None:\n",
    "        predictions = predictions[:K]\n",
    "        denom = K\n",
    "    else:\n",
    "        denom = len(predictions)\n",
    "    num = len(set(targets).intersection(set(predictions)))\n",
    "    return num/denom\n",
    "        \n",
    "def recall_at_k(targets, predictions, K=None):\n",
    "    if K is not None:\n",
    "        predictions = predictions[:K]\n",
    "    num = len(set(targets).intersection(set(predictions)))\n",
    "    return num/len(targets)\n",
    "        \n",
    "def average_precision_at_k(targets, predictions, K=None):\n",
    "    pak = []\n",
    "    for pk in range(1, K+1):\n",
    "        pak.append(precision_at_k(targets, predictions, pk))\n",
    "#     print(pak)\n",
    "    return np.mean(pak)\n"
   ]
  },
  {
   "cell_type": "markdown",
   "metadata": {},
   "source": [
    "# Multiplex RWR - Gene scores (keep first)"
   ]
  },
  {
   "cell_type": "code",
   "execution_count": 5,
   "metadata": {},
   "outputs": [
    {
     "name": "stdout",
     "output_type": "stream",
     "text": [
      "896\n"
     ]
    },
    {
     "data": {
      "application/vnd.jupyter.widget-view+json": {
       "model_id": "68e4b37044634041a7f537dd26ab48cc",
       "version_major": 2,
       "version_minor": 0
      },
      "text/plain": [
       "  0%|          | 0/6 [00:00<?, ?it/s]"
      ]
     },
     "metadata": {},
     "output_type": "display_data"
    },
    {
     "name": "stdout",
     "output_type": "stream",
     "text": [
      "552\n"
     ]
    },
    {
     "data": {
      "application/vnd.jupyter.widget-view+json": {
       "model_id": "c914ac084f2c4de987590874e0fdb5a6",
       "version_major": 2,
       "version_minor": 0
      },
      "text/plain": [
       "  0%|          | 0/6 [00:00<?, ?it/s]"
      ]
     },
     "metadata": {},
     "output_type": "display_data"
    },
    {
     "name": "stdout",
     "output_type": "stream",
     "text": [
      "439\n"
     ]
    },
    {
     "data": {
      "application/vnd.jupyter.widget-view+json": {
       "model_id": "38878f012c384fd9b32070deb49d5874",
       "version_major": 2,
       "version_minor": 0
      },
      "text/plain": [
       "  0%|          | 0/6 [00:00<?, ?it/s]"
      ]
     },
     "metadata": {},
     "output_type": "display_data"
    },
    {
     "data": {
      "text/html": [
       "<div>\n",
       "<style scoped>\n",
       "    .dataframe tbody tr th:only-of-type {\n",
       "        vertical-align: middle;\n",
       "    }\n",
       "\n",
       "    .dataframe tbody tr th {\n",
       "        vertical-align: top;\n",
       "    }\n",
       "\n",
       "    .dataframe thead th {\n",
       "        text-align: right;\n",
       "    }\n",
       "</style>\n",
       "<table border=\"1\" class=\"dataframe\">\n",
       "  <thead>\n",
       "    <tr style=\"text-align: right;\">\n",
       "      <th></th>\n",
       "      <th>Alpha</th>\n",
       "      <th>Metric</th>\n",
       "      <th>K</th>\n",
       "      <th>Value</th>\n",
       "      <th>Method</th>\n",
       "      <th>Disease</th>\n",
       "    </tr>\n",
       "  </thead>\n",
       "  <tbody>\n",
       "    <tr>\n",
       "      <th>0</th>\n",
       "      <td>0.1</td>\n",
       "      <td>Precision</td>\n",
       "      <td>5</td>\n",
       "      <td>0.800000</td>\n",
       "      <td>Multiplex RWR</td>\n",
       "      <td>asthma</td>\n",
       "    </tr>\n",
       "    <tr>\n",
       "      <th>1</th>\n",
       "      <td>0.1</td>\n",
       "      <td>Average Precision</td>\n",
       "      <td>5</td>\n",
       "      <td>0.960000</td>\n",
       "      <td>Multiplex RWR</td>\n",
       "      <td>asthma</td>\n",
       "    </tr>\n",
       "    <tr>\n",
       "      <th>2</th>\n",
       "      <td>0.1</td>\n",
       "      <td>Precision</td>\n",
       "      <td>10</td>\n",
       "      <td>0.700000</td>\n",
       "      <td>Multiplex RWR</td>\n",
       "      <td>asthma</td>\n",
       "    </tr>\n",
       "    <tr>\n",
       "      <th>3</th>\n",
       "      <td>0.1</td>\n",
       "      <td>Average Precision</td>\n",
       "      <td>10</td>\n",
       "      <td>0.829762</td>\n",
       "      <td>Multiplex RWR</td>\n",
       "      <td>asthma</td>\n",
       "    </tr>\n",
       "    <tr>\n",
       "      <th>4</th>\n",
       "      <td>0.1</td>\n",
       "      <td>Precision</td>\n",
       "      <td>20</td>\n",
       "      <td>0.650000</td>\n",
       "      <td>Multiplex RWR</td>\n",
       "      <td>asthma</td>\n",
       "    </tr>\n",
       "    <tr>\n",
       "      <th>...</th>\n",
       "      <td>...</td>\n",
       "      <td>...</td>\n",
       "      <td>...</td>\n",
       "      <td>...</td>\n",
       "      <td>...</td>\n",
       "      <td>...</td>\n",
       "    </tr>\n",
       "    <tr>\n",
       "      <th>175</th>\n",
       "      <td>0.9</td>\n",
       "      <td>Average Precision</td>\n",
       "      <td>20</td>\n",
       "      <td>0.000000</td>\n",
       "      <td>Multiplex RWR</td>\n",
       "      <td>schizophrenia</td>\n",
       "    </tr>\n",
       "    <tr>\n",
       "      <th>176</th>\n",
       "      <td>0.9</td>\n",
       "      <td>Precision</td>\n",
       "      <td>50</td>\n",
       "      <td>0.000000</td>\n",
       "      <td>Multiplex RWR</td>\n",
       "      <td>schizophrenia</td>\n",
       "    </tr>\n",
       "    <tr>\n",
       "      <th>177</th>\n",
       "      <td>0.9</td>\n",
       "      <td>Average Precision</td>\n",
       "      <td>50</td>\n",
       "      <td>0.000000</td>\n",
       "      <td>Multiplex RWR</td>\n",
       "      <td>schizophrenia</td>\n",
       "    </tr>\n",
       "    <tr>\n",
       "      <th>178</th>\n",
       "      <td>0.9</td>\n",
       "      <td>Precision</td>\n",
       "      <td>100</td>\n",
       "      <td>0.000000</td>\n",
       "      <td>Multiplex RWR</td>\n",
       "      <td>schizophrenia</td>\n",
       "    </tr>\n",
       "    <tr>\n",
       "      <th>179</th>\n",
       "      <td>0.9</td>\n",
       "      <td>Average Precision</td>\n",
       "      <td>100</td>\n",
       "      <td>0.000000</td>\n",
       "      <td>Multiplex RWR</td>\n",
       "      <td>schizophrenia</td>\n",
       "    </tr>\n",
       "  </tbody>\n",
       "</table>\n",
       "<p>180 rows × 6 columns</p>\n",
       "</div>"
      ],
      "text/plain": [
       "     Alpha             Metric    K     Value         Method        Disease\n",
       "0      0.1          Precision    5  0.800000  Multiplex RWR         asthma\n",
       "1      0.1  Average Precision    5  0.960000  Multiplex RWR         asthma\n",
       "2      0.1          Precision   10  0.700000  Multiplex RWR         asthma\n",
       "3      0.1  Average Precision   10  0.829762  Multiplex RWR         asthma\n",
       "4      0.1          Precision   20  0.650000  Multiplex RWR         asthma\n",
       "..     ...                ...  ...       ...            ...            ...\n",
       "175    0.9  Average Precision   20  0.000000  Multiplex RWR  schizophrenia\n",
       "176    0.9          Precision   50  0.000000  Multiplex RWR  schizophrenia\n",
       "177    0.9  Average Precision   50  0.000000  Multiplex RWR  schizophrenia\n",
       "178    0.9          Precision  100  0.000000  Multiplex RWR  schizophrenia\n",
       "179    0.9  Average Precision  100  0.000000  Multiplex RWR  schizophrenia\n",
       "\n",
       "[180 rows x 6 columns]"
      ]
     },
     "execution_count": 5,
     "metadata": {},
     "output_type": "execute_result"
    }
   ],
   "source": [
    "folder = \"outputs/MultiplexRWRs_scores/\"\n",
    "results = []\n",
    "for disease in [\"asthma\", \"autism\", \"schizophrenia\"]:\n",
    "    # Load seeds\n",
    "    with open(\"processed_data/gene_seeds/{}_seeds_gene2ncbi.json\".format(disease), \"r\") as f:\n",
    "        disease_seeds_gene2ncbi = json.load(f)\n",
    "    gene_seeds = list(disease_seeds_gene2ncbi.values())\n",
    "    # disease_seeds_gene2ncbi\n",
    "    \n",
    "    # Load targets\n",
    "    with open(\"processed_data/gwas_catalog_targets/{}_targets_gene2ncbi.json\".format(disease), \"r\") as f:\n",
    "        catalog_targets_gene2ncbi = json.load(f)\n",
    "    ncbi_targets = list(catalog_targets_gene2ncbi.values())\n",
    "    print(len(ncbi_targets))\n",
    "    \n",
    "    flist = sorted(f for f in os.listdir(folder) if disease in f)\n",
    "    for fname in tqdm(flist):\n",
    "#         if \"avg_rank\" not in fname:\n",
    "#             continue\n",
    "    #     print(fname)\n",
    "        ln = fname.split(\"_\")\n",
    "        a = ln[2]\n",
    "        alpha = float(a.replace(\"alpha\", \"\"))\n",
    "\n",
    "        data = pd.read_csv(os.path.join(folder, fname))\n",
    "        if data.isna().any().any():\n",
    "            print(fname)\n",
    "            break\n",
    "        genes = [str(s) for s in data[\"Gene NCBI ID\"] if str(s) not in gene_seeds] #data[col].astype(str)\n",
    "        for k in K_values:\n",
    "#             print(k)\n",
    "            pak = precision_at_k(ncbi_targets, genes, k)\n",
    "#             rak = recall_at_k(ncbi_targets, genes, k)\n",
    "            apk = average_precision_at_k(ncbi_targets, genes, k)\n",
    "            results.append({\"Alpha\": alpha, \"Metric\": \"Precision\", \"K\": k, \"Value\": pak, \"Method\": \"Multiplex RWR\", \"Disease\": disease})\n",
    "#             results.append({\"Network\": network, \"Alpha\": alpha, \"Metric\": \"Recall\", \"K\": k, \"Value\": rak, \"Method\": \"Score\", \"Disease\": disease})\n",
    "            results.append({\"Alpha\": alpha, \"Metric\": \"Average Precision\", \"K\": k, \"Value\": apk, \"Method\": \"Multiplex RWR\", \"Disease\": disease})\n",
    "#             break\n",
    "#     break\n",
    "results = pd.DataFrame(results)\n",
    "results.to_csv(\"outputs/results_MultiplexRWRs/MultiplexRWR_gene_scores.csv\", index=False)\n",
    "results"
   ]
  },
  {
   "cell_type": "code",
   "execution_count": 9,
   "metadata": {},
   "outputs": [
    {
     "data": {
      "text/plain": [
       "'asthma_multiplex_alpha0.1_results.csv'"
      ]
     },
     "execution_count": 9,
     "metadata": {},
     "output_type": "execute_result"
    }
   ],
   "source": [
    "fname"
   ]
  },
  {
   "cell_type": "code",
   "execution_count": null,
   "metadata": {},
   "outputs": [],
   "source": []
  }
 ],
 "metadata": {
  "kernelspec": {
   "display_name": "Python 3",
   "language": "python",
   "name": "python3"
  },
  "language_info": {
   "codemirror_mode": {
    "name": "ipython",
    "version": 3
   },
   "file_extension": ".py",
   "mimetype": "text/x-python",
   "name": "python",
   "nbconvert_exporter": "python",
   "pygments_lexer": "ipython3",
   "version": "3.7.9"
  }
 },
 "nbformat": 4,
 "nbformat_minor": 4
}
