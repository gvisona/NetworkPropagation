{
 "cells": [
  {
   "cell_type": "code",
   "execution_count": 1,
   "metadata": {},
   "outputs": [],
   "source": [
    "import pandas as pd\n",
    "import numpy as np\n",
    "import json\n",
    "import os\n",
    "from tqdm.notebook import tqdm"
   ]
  },
  {
   "cell_type": "code",
   "execution_count": 2,
   "metadata": {},
   "outputs": [],
   "source": [
    "# disease = \"asthma\"\n",
    "K_values = [5, 10, 20, 50, 100]\n",
    "alpha_array = [0.1, 0.2, 0.3, 0.5, 0.7, 0.9]"
   ]
  },
  {
   "cell_type": "code",
   "execution_count": 38,
   "metadata": {},
   "outputs": [],
   "source": [
    "# for disease in [\"asthma\", \"autism\", \"schizophrenia\"]:\n",
    "#     with open(\"processed_data/gwas_catalog_targets/{}_targets_gene2ncbi.json\".format(disease), \"r\") as f:\n",
    "#         catalog_targets_gene2ncbi = json.load(f)\n",
    "#     ncbi_targets = list(catalog_targets_gene2ncbi.values())\n",
    "#     print(disease, len(ncbi_targets))"
   ]
  },
  {
   "cell_type": "code",
   "execution_count": 3,
   "metadata": {},
   "outputs": [],
   "source": [
    "def precision_at_k(targets, predictions, K=None):\n",
    "    if K is not None:\n",
    "        predictions = predictions[:K]\n",
    "        denom = K\n",
    "    else:\n",
    "        denom = len(predictions)\n",
    "    num = len(set(targets).intersection(set(predictions)))\n",
    "    return num/denom\n",
    "        \n",
    "def recall_at_k(targets, predictions, K=None):\n",
    "    if K is not None:\n",
    "        predictions = predictions[:K]\n",
    "    num = len(set(targets).intersection(set(predictions)))\n",
    "    return num/len(targets)\n",
    "        \n",
    "def average_precision_at_k(targets, predictions, K=None):\n",
    "    pak = []\n",
    "    for pk in range(1, K+1):\n",
    "        pak.append(precision_at_k(targets, predictions, pk))\n",
    "    return np.mean(pak)\n",
    "\n"
   ]
  },
  {
   "cell_type": "markdown",
   "metadata": {},
   "source": [
    "# Gene Scores"
   ]
  },
  {
   "cell_type": "code",
   "execution_count": 4,
   "metadata": {},
   "outputs": [
    {
     "name": "stdout",
     "output_type": "stream",
     "text": [
      "896\n"
     ]
    },
    {
     "data": {
      "application/vnd.jupyter.widget-view+json": {
       "model_id": "852d2a081248420e91f53d65d400c1b2",
       "version_major": 2,
       "version_minor": 0
      },
      "text/plain": [
       "  0%|          | 0/30 [00:00<?, ?it/s]"
      ]
     },
     "metadata": {},
     "output_type": "display_data"
    },
    {
     "name": "stdout",
     "output_type": "stream",
     "text": [
      "552\n"
     ]
    },
    {
     "data": {
      "application/vnd.jupyter.widget-view+json": {
       "model_id": "e410b3a5ac204f77be8038871ce60313",
       "version_major": 2,
       "version_minor": 0
      },
      "text/plain": [
       "  0%|          | 0/30 [00:00<?, ?it/s]"
      ]
     },
     "metadata": {},
     "output_type": "display_data"
    },
    {
     "name": "stdout",
     "output_type": "stream",
     "text": [
      "439\n"
     ]
    },
    {
     "data": {
      "application/vnd.jupyter.widget-view+json": {
       "model_id": "005a515fe2794f17878f1f1458add47c",
       "version_major": 2,
       "version_minor": 0
      },
      "text/plain": [
       "  0%|          | 0/30 [00:00<?, ?it/s]"
      ]
     },
     "metadata": {},
     "output_type": "display_data"
    },
    {
     "data": {
      "text/html": [
       "<div>\n",
       "<style scoped>\n",
       "    .dataframe tbody tr th:only-of-type {\n",
       "        vertical-align: middle;\n",
       "    }\n",
       "\n",
       "    .dataframe tbody tr th {\n",
       "        vertical-align: top;\n",
       "    }\n",
       "\n",
       "    .dataframe thead th {\n",
       "        text-align: right;\n",
       "    }\n",
       "</style>\n",
       "<table border=\"1\" class=\"dataframe\">\n",
       "  <thead>\n",
       "    <tr style=\"text-align: right;\">\n",
       "      <th></th>\n",
       "      <th>Network</th>\n",
       "      <th>Alpha</th>\n",
       "      <th>Metric</th>\n",
       "      <th>K</th>\n",
       "      <th>Value</th>\n",
       "      <th>Method</th>\n",
       "      <th>Disease</th>\n",
       "    </tr>\n",
       "  </thead>\n",
       "  <tbody>\n",
       "    <tr>\n",
       "      <th>0</th>\n",
       "      <td>BioPlex3</td>\n",
       "      <td>0.1</td>\n",
       "      <td>Precision</td>\n",
       "      <td>5</td>\n",
       "      <td>0.800000</td>\n",
       "      <td>Score</td>\n",
       "      <td>asthma</td>\n",
       "    </tr>\n",
       "    <tr>\n",
       "      <th>1</th>\n",
       "      <td>BioPlex3</td>\n",
       "      <td>0.1</td>\n",
       "      <td>Average Precision</td>\n",
       "      <td>5</td>\n",
       "      <td>0.910000</td>\n",
       "      <td>Score</td>\n",
       "      <td>asthma</td>\n",
       "    </tr>\n",
       "    <tr>\n",
       "      <th>2</th>\n",
       "      <td>BioPlex3</td>\n",
       "      <td>0.1</td>\n",
       "      <td>Precision</td>\n",
       "      <td>10</td>\n",
       "      <td>0.700000</td>\n",
       "      <td>Score</td>\n",
       "      <td>asthma</td>\n",
       "    </tr>\n",
       "    <tr>\n",
       "      <th>3</th>\n",
       "      <td>BioPlex3</td>\n",
       "      <td>0.1</td>\n",
       "      <td>Average Precision</td>\n",
       "      <td>10</td>\n",
       "      <td>0.821429</td>\n",
       "      <td>Score</td>\n",
       "      <td>asthma</td>\n",
       "    </tr>\n",
       "    <tr>\n",
       "      <th>4</th>\n",
       "      <td>BioPlex3</td>\n",
       "      <td>0.1</td>\n",
       "      <td>Precision</td>\n",
       "      <td>20</td>\n",
       "      <td>0.700000</td>\n",
       "      <td>Score</td>\n",
       "      <td>asthma</td>\n",
       "    </tr>\n",
       "    <tr>\n",
       "      <th>...</th>\n",
       "      <td>...</td>\n",
       "      <td>...</td>\n",
       "      <td>...</td>\n",
       "      <td>...</td>\n",
       "      <td>...</td>\n",
       "      <td>...</td>\n",
       "      <td>...</td>\n",
       "    </tr>\n",
       "    <tr>\n",
       "      <th>895</th>\n",
       "      <td>STRING</td>\n",
       "      <td>0.9</td>\n",
       "      <td>Average Precision</td>\n",
       "      <td>20</td>\n",
       "      <td>0.010851</td>\n",
       "      <td>Score</td>\n",
       "      <td>schizophrenia</td>\n",
       "    </tr>\n",
       "    <tr>\n",
       "      <th>896</th>\n",
       "      <td>STRING</td>\n",
       "      <td>0.9</td>\n",
       "      <td>Precision</td>\n",
       "      <td>50</td>\n",
       "      <td>0.040000</td>\n",
       "      <td>Score</td>\n",
       "      <td>schizophrenia</td>\n",
       "    </tr>\n",
       "    <tr>\n",
       "      <th>897</th>\n",
       "      <td>STRING</td>\n",
       "      <td>0.9</td>\n",
       "      <td>Average Precision</td>\n",
       "      <td>50</td>\n",
       "      <td>0.024020</td>\n",
       "      <td>Score</td>\n",
       "      <td>schizophrenia</td>\n",
       "    </tr>\n",
       "    <tr>\n",
       "      <th>898</th>\n",
       "      <td>STRING</td>\n",
       "      <td>0.9</td>\n",
       "      <td>Precision</td>\n",
       "      <td>100</td>\n",
       "      <td>0.030000</td>\n",
       "      <td>Score</td>\n",
       "      <td>schizophrenia</td>\n",
       "    </tr>\n",
       "    <tr>\n",
       "      <th>899</th>\n",
       "      <td>STRING</td>\n",
       "      <td>0.9</td>\n",
       "      <td>Average Precision</td>\n",
       "      <td>100</td>\n",
       "      <td>0.027992</td>\n",
       "      <td>Score</td>\n",
       "      <td>schizophrenia</td>\n",
       "    </tr>\n",
       "  </tbody>\n",
       "</table>\n",
       "<p>900 rows × 7 columns</p>\n",
       "</div>"
      ],
      "text/plain": [
       "      Network  Alpha             Metric    K     Value Method        Disease\n",
       "0    BioPlex3    0.1          Precision    5  0.800000  Score         asthma\n",
       "1    BioPlex3    0.1  Average Precision    5  0.910000  Score         asthma\n",
       "2    BioPlex3    0.1          Precision   10  0.700000  Score         asthma\n",
       "3    BioPlex3    0.1  Average Precision   10  0.821429  Score         asthma\n",
       "4    BioPlex3    0.1          Precision   20  0.700000  Score         asthma\n",
       "..        ...    ...                ...  ...       ...    ...            ...\n",
       "895    STRING    0.9  Average Precision   20  0.010851  Score  schizophrenia\n",
       "896    STRING    0.9          Precision   50  0.040000  Score  schizophrenia\n",
       "897    STRING    0.9  Average Precision   50  0.024020  Score  schizophrenia\n",
       "898    STRING    0.9          Precision  100  0.030000  Score  schizophrenia\n",
       "899    STRING    0.9  Average Precision  100  0.027992  Score  schizophrenia\n",
       "\n",
       "[900 rows x 7 columns]"
      ]
     },
     "execution_count": 4,
     "metadata": {},
     "output_type": "execute_result"
    }
   ],
   "source": [
    "folder = \"outputs/RWRs_scores/\"\n",
    "results = []\n",
    "for disease in [\"asthma\", \"autism\", \"schizophrenia\"]:\n",
    "    # Load seeds\n",
    "    with open(\"processed_data/gene_seeds/{}_seeds_gene2ncbi.json\".format(disease), \"r\") as f:\n",
    "        disease_seeds_gene2ncbi = json.load(f)\n",
    "    gene_seeds = list(disease_seeds_gene2ncbi.values())\n",
    "    # disease_seeds_gene2ncbi\n",
    "    \n",
    "    # Load targets\n",
    "    with open(\"processed_data/gwas_catalog_targets/{}_targets_gene2ncbi.json\".format(disease), \"r\") as f:\n",
    "        catalog_targets_gene2ncbi = json.load(f)\n",
    "    ncbi_targets = list(catalog_targets_gene2ncbi.values())\n",
    "    print(len(ncbi_targets))\n",
    "    \n",
    "    flist = sorted(f for f in os.listdir(folder) if disease in f)\n",
    "    for fname in tqdm(flist):\n",
    "        if disease not in fname:\n",
    "            continue\n",
    "    #     print(fname)\n",
    "        d, network, a, _ = fname.split(\"_\")\n",
    "        alpha = float(a.replace(\"alpha\", \"\"))\n",
    "\n",
    "        data = pd.read_csv(os.path.join(folder, fname))\n",
    "        if data.isna().any().any():\n",
    "            print(fname)\n",
    "            break\n",
    "        genes = [str(s) for s in data[\"Gene NCBI ID\"] if str(s) not in gene_seeds] #data[col].astype(str)\n",
    "        for k in K_values:\n",
    "            pak = precision_at_k(ncbi_targets, genes, k)\n",
    "#             rak = recall_at_k(ncbi_targets, genes, k)\n",
    "            apk = average_precision_at_k(ncbi_targets, genes, k)\n",
    "            results.append({\"Network\": network, \"Alpha\": alpha, \"Metric\": \"Precision\", \"K\": k, \"Value\": pak, \"Method\": \"Score\", \"Disease\": disease})\n",
    "#             results.append({\"Network\": network, \"Alpha\": alpha, \"Metric\": \"Recall\", \"K\": k, \"Value\": rak, \"Method\": \"Score\", \"Disease\": disease})\n",
    "            results.append({\"Network\": network, \"Alpha\": alpha, \"Metric\": \"Average Precision\", \"K\": k, \"Value\": apk, \"Method\": \"Score\", \"Disease\": disease})\n",
    "            \n",
    "results = pd.DataFrame(results)\n",
    "results.to_csv(\"outputs/results_RWRs/RWRs_gene_scores_single_nets.csv\", index=False)\n",
    "results"
   ]
  },
  {
   "cell_type": "markdown",
   "metadata": {},
   "source": [
    "# Seed Genes"
   ]
  },
  {
   "cell_type": "code",
   "execution_count": 11,
   "metadata": {},
   "outputs": [
    {
     "name": "stdout",
     "output_type": "stream",
     "text": [
      "896\n"
     ]
    },
    {
     "data": {
      "application/vnd.jupyter.widget-view+json": {
       "model_id": "17a4f34cfced47b097a7d4413600f9ad",
       "version_major": 2,
       "version_minor": 0
      },
      "text/plain": [
       "  0%|          | 0/30 [00:00<?, ?it/s]"
      ]
     },
     "metadata": {},
     "output_type": "display_data"
    },
    {
     "name": "stdout",
     "output_type": "stream",
     "text": [
      "552\n"
     ]
    },
    {
     "data": {
      "application/vnd.jupyter.widget-view+json": {
       "model_id": "eb99ef8a50ae4360acde609297d3f570",
       "version_major": 2,
       "version_minor": 0
      },
      "text/plain": [
       "  0%|          | 0/30 [00:00<?, ?it/s]"
      ]
     },
     "metadata": {},
     "output_type": "display_data"
    },
    {
     "name": "stdout",
     "output_type": "stream",
     "text": [
      "autism_ProteomeHD_alpha0.1_results.csv\n",
      "autism_ProteomeHD_alpha0.2_results.csv\n",
      "autism_ProteomeHD_alpha0.3_results.csv\n",
      "autism_ProteomeHD_alpha0.5_results.csv\n",
      "autism_ProteomeHD_alpha0.7_results.csv\n",
      "autism_ProteomeHD_alpha0.9_results.csv\n",
      "439\n"
     ]
    },
    {
     "data": {
      "application/vnd.jupyter.widget-view+json": {
       "model_id": "77171a15307b46ae985f06fbc66ed24c",
       "version_major": 2,
       "version_minor": 0
      },
      "text/plain": [
       "  0%|          | 0/30 [00:00<?, ?it/s]"
      ]
     },
     "metadata": {},
     "output_type": "display_data"
    },
    {
     "data": {
      "text/html": [
       "<div>\n",
       "<style scoped>\n",
       "    .dataframe tbody tr th:only-of-type {\n",
       "        vertical-align: middle;\n",
       "    }\n",
       "\n",
       "    .dataframe tbody tr th {\n",
       "        vertical-align: top;\n",
       "    }\n",
       "\n",
       "    .dataframe thead th {\n",
       "        text-align: right;\n",
       "    }\n",
       "</style>\n",
       "<table border=\"1\" class=\"dataframe\">\n",
       "  <thead>\n",
       "    <tr style=\"text-align: right;\">\n",
       "      <th></th>\n",
       "      <th>Network</th>\n",
       "      <th>Alpha</th>\n",
       "      <th>Metric</th>\n",
       "      <th>K</th>\n",
       "      <th>Value</th>\n",
       "      <th>Method</th>\n",
       "      <th>Disease</th>\n",
       "    </tr>\n",
       "  </thead>\n",
       "  <tbody>\n",
       "    <tr>\n",
       "      <th>0</th>\n",
       "      <td>BioPlex3</td>\n",
       "      <td>0.1</td>\n",
       "      <td>Precision</td>\n",
       "      <td>5</td>\n",
       "      <td>0.800000</td>\n",
       "      <td>Seed Genes</td>\n",
       "      <td>asthma</td>\n",
       "    </tr>\n",
       "    <tr>\n",
       "      <th>1</th>\n",
       "      <td>BioPlex3</td>\n",
       "      <td>0.1</td>\n",
       "      <td>Average Precision</td>\n",
       "      <td>5</td>\n",
       "      <td>0.843333</td>\n",
       "      <td>Seed Genes</td>\n",
       "      <td>asthma</td>\n",
       "    </tr>\n",
       "    <tr>\n",
       "      <th>2</th>\n",
       "      <td>BioPlex3</td>\n",
       "      <td>0.1</td>\n",
       "      <td>Precision</td>\n",
       "      <td>10</td>\n",
       "      <td>0.700000</td>\n",
       "      <td>Seed Genes</td>\n",
       "      <td>asthma</td>\n",
       "    </tr>\n",
       "    <tr>\n",
       "      <th>3</th>\n",
       "      <td>BioPlex3</td>\n",
       "      <td>0.1</td>\n",
       "      <td>Average Precision</td>\n",
       "      <td>10</td>\n",
       "      <td>0.799206</td>\n",
       "      <td>Seed Genes</td>\n",
       "      <td>asthma</td>\n",
       "    </tr>\n",
       "    <tr>\n",
       "      <th>4</th>\n",
       "      <td>BioPlex3</td>\n",
       "      <td>0.1</td>\n",
       "      <td>Precision</td>\n",
       "      <td>20</td>\n",
       "      <td>0.450000</td>\n",
       "      <td>Seed Genes</td>\n",
       "      <td>asthma</td>\n",
       "    </tr>\n",
       "    <tr>\n",
       "      <th>...</th>\n",
       "      <td>...</td>\n",
       "      <td>...</td>\n",
       "      <td>...</td>\n",
       "      <td>...</td>\n",
       "      <td>...</td>\n",
       "      <td>...</td>\n",
       "      <td>...</td>\n",
       "    </tr>\n",
       "    <tr>\n",
       "      <th>895</th>\n",
       "      <td>STRING</td>\n",
       "      <td>0.9</td>\n",
       "      <td>Average Precision</td>\n",
       "      <td>20</td>\n",
       "      <td>0.385494</td>\n",
       "      <td>Seed Genes</td>\n",
       "      <td>schizophrenia</td>\n",
       "    </tr>\n",
       "    <tr>\n",
       "      <th>896</th>\n",
       "      <td>STRING</td>\n",
       "      <td>0.9</td>\n",
       "      <td>Precision</td>\n",
       "      <td>50</td>\n",
       "      <td>0.100000</td>\n",
       "      <td>Seed Genes</td>\n",
       "      <td>schizophrenia</td>\n",
       "    </tr>\n",
       "    <tr>\n",
       "      <th>897</th>\n",
       "      <td>STRING</td>\n",
       "      <td>0.9</td>\n",
       "      <td>Average Precision</td>\n",
       "      <td>50</td>\n",
       "      <td>0.229390</td>\n",
       "      <td>Seed Genes</td>\n",
       "      <td>schizophrenia</td>\n",
       "    </tr>\n",
       "    <tr>\n",
       "      <th>898</th>\n",
       "      <td>STRING</td>\n",
       "      <td>0.9</td>\n",
       "      <td>Precision</td>\n",
       "      <td>100</td>\n",
       "      <td>0.140000</td>\n",
       "      <td>Seed Genes</td>\n",
       "      <td>schizophrenia</td>\n",
       "    </tr>\n",
       "    <tr>\n",
       "      <th>899</th>\n",
       "      <td>STRING</td>\n",
       "      <td>0.9</td>\n",
       "      <td>Average Precision</td>\n",
       "      <td>100</td>\n",
       "      <td>0.169067</td>\n",
       "      <td>Seed Genes</td>\n",
       "      <td>schizophrenia</td>\n",
       "    </tr>\n",
       "  </tbody>\n",
       "</table>\n",
       "<p>900 rows × 7 columns</p>\n",
       "</div>"
      ],
      "text/plain": [
       "      Network  Alpha             Metric    K     Value      Method  \\\n",
       "0    BioPlex3    0.1          Precision    5  0.800000  Seed Genes   \n",
       "1    BioPlex3    0.1  Average Precision    5  0.843333  Seed Genes   \n",
       "2    BioPlex3    0.1          Precision   10  0.700000  Seed Genes   \n",
       "3    BioPlex3    0.1  Average Precision   10  0.799206  Seed Genes   \n",
       "4    BioPlex3    0.1          Precision   20  0.450000  Seed Genes   \n",
       "..        ...    ...                ...  ...       ...         ...   \n",
       "895    STRING    0.9  Average Precision   20  0.385494  Seed Genes   \n",
       "896    STRING    0.9          Precision   50  0.100000  Seed Genes   \n",
       "897    STRING    0.9  Average Precision   50  0.229390  Seed Genes   \n",
       "898    STRING    0.9          Precision  100  0.140000  Seed Genes   \n",
       "899    STRING    0.9  Average Precision  100  0.169067  Seed Genes   \n",
       "\n",
       "           Disease  \n",
       "0           asthma  \n",
       "1           asthma  \n",
       "2           asthma  \n",
       "3           asthma  \n",
       "4           asthma  \n",
       "..             ...  \n",
       "895  schizophrenia  \n",
       "896  schizophrenia  \n",
       "897  schizophrenia  \n",
       "898  schizophrenia  \n",
       "899  schizophrenia  \n",
       "\n",
       "[900 rows x 7 columns]"
      ]
     },
     "execution_count": 11,
     "metadata": {},
     "output_type": "execute_result"
    }
   ],
   "source": [
    "folder = \"outputs/RWRs_gene_seeds/\"\n",
    "results = []\n",
    "for disease in [\"asthma\", \"autism\", \"schizophrenia\"]:\n",
    "    # Load seeds\n",
    "    with open(\"processed_data/gene_seeds/{}_seeds_gene2ncbi.json\".format(disease), \"r\") as f:\n",
    "        disease_seeds_gene2ncbi = json.load(f)\n",
    "    gene_seeds = list(disease_seeds_gene2ncbi.values())\n",
    "    # disease_seeds_gene2ncbi\n",
    "    \n",
    "    # Load targets\n",
    "    with open(\"processed_data/gwas_catalog_targets/{}_targets_gene2ncbi.json\".format(disease), \"r\") as f:\n",
    "        catalog_targets_gene2ncbi = json.load(f)\n",
    "    ncbi_targets = list(catalog_targets_gene2ncbi.values())\n",
    "    print(len(ncbi_targets))\n",
    "    \n",
    "    flist = sorted(f for f in os.listdir(folder) if disease in f)\n",
    "    for fname in tqdm(flist):\n",
    "        if disease not in fname:\n",
    "            continue\n",
    "    #     print(fname)\n",
    "        d, network, a, _ = fname.split(\"_\")\n",
    "        alpha = float(a.replace(\"alpha\", \"\"))\n",
    "\n",
    "        data = pd.read_csv(os.path.join(folder, fname))\n",
    "        genes = [str(s) for s in data[\"Gene NCBI ID\"] if str(s) not in gene_seeds]\n",
    "        if data.isna().any().any():\n",
    "            genes = []\n",
    "            print(fname)\n",
    "#         genes = [str(s) for s in data[\"Gene NCBI ID\"] if str(s) not in gene_seeds] #data[col].astype(str)\n",
    "        for k in K_values:\n",
    "            pak = precision_at_k(ncbi_targets, genes, k)\n",
    "#             rak = recall_at_k(ncbi_targets, genes, k)\n",
    "            apk = average_precision_at_k(ncbi_targets, genes, k)\n",
    "            results.append({\"Network\": network, \"Alpha\": alpha, \"Metric\": \"Precision\", \"K\": k, \"Value\": pak, \"Method\": \"Seed Genes\", \"Disease\": disease})\n",
    "#             results.append({\"Network\": network, \"Alpha\": alpha, \"Metric\": \"Recall\", \"K\": k, \"Value\": rak, \"Method\": \"Score\", \"Disease\": disease})\n",
    "            results.append({\"Network\": network, \"Alpha\": alpha, \"Metric\": \"Average Precision\", \"K\": k, \"Value\": apk, \"Method\": \"Seed Genes\", \"Disease\": disease})\n",
    "            \n",
    "results = pd.DataFrame(results)\n",
    "results.to_csv(\"outputs/results_RWRs/RWRs_seed_genes_single_nets.csv\", index=False)\n",
    "results"
   ]
  },
  {
   "cell_type": "code",
   "execution_count": 7,
   "metadata": {},
   "outputs": [
    {
     "data": {
      "text/plain": [
       "False"
      ]
     },
     "execution_count": 7,
     "metadata": {},
     "output_type": "execute_result"
    }
   ],
   "source": [
    "data.isna().any().any()"
   ]
  },
  {
   "cell_type": "code",
   "execution_count": 8,
   "metadata": {},
   "outputs": [],
   "source": [
    "# results[(results[\"Network\"]==\"ProteomeHD\") & (results[\"Disease\"]==\"autism\")]"
   ]
  },
  {
   "cell_type": "code",
   "execution_count": null,
   "metadata": {},
   "outputs": [],
   "source": []
  }
 ],
 "metadata": {
  "kernelspec": {
   "display_name": "Python 3",
   "language": "python",
   "name": "python3"
  },
  "language_info": {
   "codemirror_mode": {
    "name": "ipython",
    "version": 3
   },
   "file_extension": ".py",
   "mimetype": "text/x-python",
   "name": "python",
   "nbconvert_exporter": "python",
   "pygments_lexer": "ipython3",
   "version": "3.7.9"
  }
 },
 "nbformat": 4,
 "nbformat_minor": 4
}
