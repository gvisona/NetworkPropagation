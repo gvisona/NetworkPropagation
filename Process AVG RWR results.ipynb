{
 "cells": [
  {
   "cell_type": "code",
   "execution_count": 1,
   "metadata": {},
   "outputs": [],
   "source": [
    "import pandas as pd\n",
    "import numpy as np\n",
    "import json\n",
    "import os\n",
    "from tqdm.notebook import tqdm"
   ]
  },
  {
   "cell_type": "code",
   "execution_count": 2,
   "metadata": {},
   "outputs": [],
   "source": [
    "# disease = \"asthma\"\n",
    "K_values = [5, 10, 20, 50, 100]\n",
    "alpha_array = [0.1, 0.2, 0.3, 0.5, 0.7, 0.9]"
   ]
  },
  {
   "cell_type": "code",
   "execution_count": 3,
   "metadata": {},
   "outputs": [],
   "source": [
    "# for disease in [\"asthma\", \"autism\", \"schizophrenia\"]:\n",
    "#     with open(\"processed_data/gwas_catalog_targets/{}_targets_gene2ncbi.json\".format(disease), \"r\") as f:\n",
    "#         catalog_targets_gene2ncbi = json.load(f)\n",
    "#     ncbi_targets = list(catalog_targets_gene2ncbi.values())\n",
    "#     print(disease, len(ncbi_targets))"
   ]
  },
  {
   "cell_type": "code",
   "execution_count": 4,
   "metadata": {},
   "outputs": [],
   "source": [
    "def precision_at_k(targets, predictions, K=None):\n",
    "    if K is not None:\n",
    "        predictions = predictions[:K]\n",
    "        denom = K\n",
    "    else:\n",
    "        denom = len(predictions)\n",
    "    num = len(set(targets).intersection(set(predictions)))\n",
    "    return num/denom\n",
    "        \n",
    "def recall_at_k(targets, predictions, K=None):\n",
    "    if K is not None:\n",
    "        predictions = predictions[:K]\n",
    "    num = len(set(targets).intersection(set(predictions)))\n",
    "    return num/len(targets)\n",
    "        \n",
    "def average_precision_at_k(targets, predictions, K=None):\n",
    "    pak = []\n",
    "    for pk in range(1, K+1):\n",
    "        pak.append(precision_at_k(targets, predictions, pk))\n",
    "    return np.mean(pak)\n",
    "\n"
   ]
  },
  {
   "cell_type": "markdown",
   "metadata": {},
   "source": [
    "# Avg Rank"
   ]
  },
  {
   "cell_type": "code",
   "execution_count": 5,
   "metadata": {},
   "outputs": [
    {
     "name": "stdout",
     "output_type": "stream",
     "text": [
      "896\n"
     ]
    },
    {
     "data": {
      "application/vnd.jupyter.widget-view+json": {
       "model_id": "7eaf7df1c36146868058776453f2e864",
       "version_major": 2,
       "version_minor": 0
      },
      "text/plain": [
       "  0%|          | 0/12 [00:00<?, ?it/s]"
      ]
     },
     "metadata": {},
     "output_type": "display_data"
    },
    {
     "name": "stdout",
     "output_type": "stream",
     "text": [
      "552\n"
     ]
    },
    {
     "data": {
      "application/vnd.jupyter.widget-view+json": {
       "model_id": "8c05632daa324e20b2e4367bccfff9c2",
       "version_major": 2,
       "version_minor": 0
      },
      "text/plain": [
       "  0%|          | 0/12 [00:00<?, ?it/s]"
      ]
     },
     "metadata": {},
     "output_type": "display_data"
    },
    {
     "name": "stdout",
     "output_type": "stream",
     "text": [
      "439\n"
     ]
    },
    {
     "data": {
      "application/vnd.jupyter.widget-view+json": {
       "model_id": "1978a628e6474c54b8cbc4039479c53b",
       "version_major": 2,
       "version_minor": 0
      },
      "text/plain": [
       "  0%|          | 0/12 [00:00<?, ?it/s]"
      ]
     },
     "metadata": {},
     "output_type": "display_data"
    },
    {
     "data": {
      "text/html": [
       "<div>\n",
       "<style scoped>\n",
       "    .dataframe tbody tr th:only-of-type {\n",
       "        vertical-align: middle;\n",
       "    }\n",
       "\n",
       "    .dataframe tbody tr th {\n",
       "        vertical-align: top;\n",
       "    }\n",
       "\n",
       "    .dataframe thead th {\n",
       "        text-align: right;\n",
       "    }\n",
       "</style>\n",
       "<table border=\"1\" class=\"dataframe\">\n",
       "  <thead>\n",
       "    <tr style=\"text-align: right;\">\n",
       "      <th></th>\n",
       "      <th>Alpha</th>\n",
       "      <th>Metric</th>\n",
       "      <th>K</th>\n",
       "      <th>Value</th>\n",
       "      <th>Method</th>\n",
       "      <th>Disease</th>\n",
       "    </tr>\n",
       "  </thead>\n",
       "  <tbody>\n",
       "    <tr>\n",
       "      <th>0</th>\n",
       "      <td>0.1</td>\n",
       "      <td>Precision</td>\n",
       "      <td>5</td>\n",
       "      <td>1.000000</td>\n",
       "      <td>Avg. Rank</td>\n",
       "      <td>asthma</td>\n",
       "    </tr>\n",
       "    <tr>\n",
       "      <th>1</th>\n",
       "      <td>0.1</td>\n",
       "      <td>Average Precision</td>\n",
       "      <td>5</td>\n",
       "      <td>1.000000</td>\n",
       "      <td>Avg. Rank</td>\n",
       "      <td>asthma</td>\n",
       "    </tr>\n",
       "    <tr>\n",
       "      <th>2</th>\n",
       "      <td>0.1</td>\n",
       "      <td>Precision</td>\n",
       "      <td>10</td>\n",
       "      <td>0.800000</td>\n",
       "      <td>Avg. Rank</td>\n",
       "      <td>asthma</td>\n",
       "    </tr>\n",
       "    <tr>\n",
       "      <th>3</th>\n",
       "      <td>0.1</td>\n",
       "      <td>Average Precision</td>\n",
       "      <td>10</td>\n",
       "      <td>0.930992</td>\n",
       "      <td>Avg. Rank</td>\n",
       "      <td>asthma</td>\n",
       "    </tr>\n",
       "    <tr>\n",
       "      <th>4</th>\n",
       "      <td>0.1</td>\n",
       "      <td>Precision</td>\n",
       "      <td>20</td>\n",
       "      <td>0.700000</td>\n",
       "      <td>Avg. Rank</td>\n",
       "      <td>asthma</td>\n",
       "    </tr>\n",
       "    <tr>\n",
       "      <th>...</th>\n",
       "      <td>...</td>\n",
       "      <td>...</td>\n",
       "      <td>...</td>\n",
       "      <td>...</td>\n",
       "      <td>...</td>\n",
       "      <td>...</td>\n",
       "    </tr>\n",
       "    <tr>\n",
       "      <th>175</th>\n",
       "      <td>0.9</td>\n",
       "      <td>Average Precision</td>\n",
       "      <td>20</td>\n",
       "      <td>0.087550</td>\n",
       "      <td>Avg. Rank</td>\n",
       "      <td>schizophrenia</td>\n",
       "    </tr>\n",
       "    <tr>\n",
       "      <th>176</th>\n",
       "      <td>0.9</td>\n",
       "      <td>Precision</td>\n",
       "      <td>50</td>\n",
       "      <td>0.160000</td>\n",
       "      <td>Avg. Rank</td>\n",
       "      <td>schizophrenia</td>\n",
       "    </tr>\n",
       "    <tr>\n",
       "      <th>177</th>\n",
       "      <td>0.9</td>\n",
       "      <td>Average Precision</td>\n",
       "      <td>50</td>\n",
       "      <td>0.136778</td>\n",
       "      <td>Avg. Rank</td>\n",
       "      <td>schizophrenia</td>\n",
       "    </tr>\n",
       "    <tr>\n",
       "      <th>178</th>\n",
       "      <td>0.9</td>\n",
       "      <td>Precision</td>\n",
       "      <td>100</td>\n",
       "      <td>0.170000</td>\n",
       "      <td>Avg. Rank</td>\n",
       "      <td>schizophrenia</td>\n",
       "    </tr>\n",
       "    <tr>\n",
       "      <th>179</th>\n",
       "      <td>0.9</td>\n",
       "      <td>Average Precision</td>\n",
       "      <td>100</td>\n",
       "      <td>0.154922</td>\n",
       "      <td>Avg. Rank</td>\n",
       "      <td>schizophrenia</td>\n",
       "    </tr>\n",
       "  </tbody>\n",
       "</table>\n",
       "<p>180 rows × 6 columns</p>\n",
       "</div>"
      ],
      "text/plain": [
       "     Alpha             Metric    K     Value     Method        Disease\n",
       "0      0.1          Precision    5  1.000000  Avg. Rank         asthma\n",
       "1      0.1  Average Precision    5  1.000000  Avg. Rank         asthma\n",
       "2      0.1          Precision   10  0.800000  Avg. Rank         asthma\n",
       "3      0.1  Average Precision   10  0.930992  Avg. Rank         asthma\n",
       "4      0.1          Precision   20  0.700000  Avg. Rank         asthma\n",
       "..     ...                ...  ...       ...        ...            ...\n",
       "175    0.9  Average Precision   20  0.087550  Avg. Rank  schizophrenia\n",
       "176    0.9          Precision   50  0.160000  Avg. Rank  schizophrenia\n",
       "177    0.9  Average Precision   50  0.136778  Avg. Rank  schizophrenia\n",
       "178    0.9          Precision  100  0.170000  Avg. Rank  schizophrenia\n",
       "179    0.9  Average Precision  100  0.154922  Avg. Rank  schizophrenia\n",
       "\n",
       "[180 rows x 6 columns]"
      ]
     },
     "execution_count": 5,
     "metadata": {},
     "output_type": "execute_result"
    }
   ],
   "source": [
    "folder = \"outputs/AVG_RWRs_gene_scores/\"\n",
    "results = []\n",
    "for disease in [\"asthma\", \"autism\", \"schizophrenia\"]:\n",
    "    # Load seeds\n",
    "    with open(\"processed_data/gene_seeds/{}_seeds_gene2ncbi.json\".format(disease), \"r\") as f:\n",
    "        disease_seeds_gene2ncbi = json.load(f)\n",
    "    gene_seeds = list(disease_seeds_gene2ncbi.values())\n",
    "    # disease_seeds_gene2ncbi\n",
    "    \n",
    "    # Load targets\n",
    "    with open(\"processed_data/gwas_catalog_targets/{}_targets_gene2ncbi.json\".format(disease), \"r\") as f:\n",
    "        catalog_targets_gene2ncbi = json.load(f)\n",
    "    ncbi_targets = list(catalog_targets_gene2ncbi.values())\n",
    "    print(len(ncbi_targets))\n",
    "    \n",
    "    flist = sorted(f for f in os.listdir(folder) if disease in f)\n",
    "    for fname in tqdm(flist):\n",
    "        if \"avg_rank\" not in fname:\n",
    "            continue\n",
    "    #     print(fname)\n",
    "        ln = fname.split(\"_\")\n",
    "        a = ln[3].rsplit(\".\", 1)[0]\n",
    "        alpha = float(a.replace(\"alpha\", \"\"))\n",
    "\n",
    "        data = pd.read_csv(os.path.join(folder, fname))\n",
    "        if data.isna().any().any():\n",
    "            print(fname)\n",
    "            break\n",
    "        genes = [str(s) for s in data[\"Gene NCBI ID\"] if str(s) not in gene_seeds] #data[col].astype(str)\n",
    "        for k in K_values:\n",
    "            pak = precision_at_k(ncbi_targets, genes, k)\n",
    "#             rak = recall_at_k(ncbi_targets, genes, k)\n",
    "            apk = average_precision_at_k(ncbi_targets, genes, k)\n",
    "            results.append({\"Alpha\": alpha, \"Metric\": \"Precision\", \"K\": k, \"Value\": pak, \"Method\": \"Avg. Rank\", \"Disease\": disease})\n",
    "#             results.append({\"Network\": network, \"Alpha\": alpha, \"Metric\": \"Recall\", \"K\": k, \"Value\": rak, \"Method\": \"Score\", \"Disease\": disease})\n",
    "            results.append({\"Alpha\": alpha, \"Metric\": \"Average Precision\", \"K\": k, \"Value\": apk, \"Method\": \"Avg. Rank\", \"Disease\": disease})\n",
    "            \n",
    "results = pd.DataFrame(results)\n",
    "results.to_csv(\"outputs/results_AVG/AVG_rank_gene_scores.csv\", index=False)\n",
    "results"
   ]
  },
  {
   "cell_type": "markdown",
   "metadata": {},
   "source": [
    "# AVG score"
   ]
  },
  {
   "cell_type": "code",
   "execution_count": 6,
   "metadata": {},
   "outputs": [
    {
     "name": "stdout",
     "output_type": "stream",
     "text": [
      "896\n"
     ]
    },
    {
     "data": {
      "application/vnd.jupyter.widget-view+json": {
       "model_id": "ab9b19936bf04567af20c5087b57c92e",
       "version_major": 2,
       "version_minor": 0
      },
      "text/plain": [
       "  0%|          | 0/12 [00:00<?, ?it/s]"
      ]
     },
     "metadata": {},
     "output_type": "display_data"
    },
    {
     "name": "stdout",
     "output_type": "stream",
     "text": [
      "552\n"
     ]
    },
    {
     "data": {
      "application/vnd.jupyter.widget-view+json": {
       "model_id": "8dd4ad7c136d408a91fec1342e1676c1",
       "version_major": 2,
       "version_minor": 0
      },
      "text/plain": [
       "  0%|          | 0/12 [00:00<?, ?it/s]"
      ]
     },
     "metadata": {},
     "output_type": "display_data"
    },
    {
     "name": "stdout",
     "output_type": "stream",
     "text": [
      "439\n"
     ]
    },
    {
     "data": {
      "application/vnd.jupyter.widget-view+json": {
       "model_id": "b1b37eed7af04e9897b053b70ef06370",
       "version_major": 2,
       "version_minor": 0
      },
      "text/plain": [
       "  0%|          | 0/12 [00:00<?, ?it/s]"
      ]
     },
     "metadata": {},
     "output_type": "display_data"
    },
    {
     "data": {
      "text/html": [
       "<div>\n",
       "<style scoped>\n",
       "    .dataframe tbody tr th:only-of-type {\n",
       "        vertical-align: middle;\n",
       "    }\n",
       "\n",
       "    .dataframe tbody tr th {\n",
       "        vertical-align: top;\n",
       "    }\n",
       "\n",
       "    .dataframe thead th {\n",
       "        text-align: right;\n",
       "    }\n",
       "</style>\n",
       "<table border=\"1\" class=\"dataframe\">\n",
       "  <thead>\n",
       "    <tr style=\"text-align: right;\">\n",
       "      <th></th>\n",
       "      <th>Alpha</th>\n",
       "      <th>Metric</th>\n",
       "      <th>K</th>\n",
       "      <th>Value</th>\n",
       "      <th>Method</th>\n",
       "      <th>Disease</th>\n",
       "    </tr>\n",
       "  </thead>\n",
       "  <tbody>\n",
       "    <tr>\n",
       "      <th>0</th>\n",
       "      <td>0.1</td>\n",
       "      <td>Precision</td>\n",
       "      <td>5</td>\n",
       "      <td>0.600000</td>\n",
       "      <td>Avg. Score</td>\n",
       "      <td>asthma</td>\n",
       "    </tr>\n",
       "    <tr>\n",
       "      <th>1</th>\n",
       "      <td>0.1</td>\n",
       "      <td>Average Precision</td>\n",
       "      <td>5</td>\n",
       "      <td>0.503333</td>\n",
       "      <td>Avg. Score</td>\n",
       "      <td>asthma</td>\n",
       "    </tr>\n",
       "    <tr>\n",
       "      <th>2</th>\n",
       "      <td>0.1</td>\n",
       "      <td>Precision</td>\n",
       "      <td>10</td>\n",
       "      <td>0.600000</td>\n",
       "      <td>Avg. Score</td>\n",
       "      <td>asthma</td>\n",
       "    </tr>\n",
       "    <tr>\n",
       "      <th>3</th>\n",
       "      <td>0.1</td>\n",
       "      <td>Average Precision</td>\n",
       "      <td>10</td>\n",
       "      <td>0.510079</td>\n",
       "      <td>Avg. Score</td>\n",
       "      <td>asthma</td>\n",
       "    </tr>\n",
       "    <tr>\n",
       "      <th>4</th>\n",
       "      <td>0.1</td>\n",
       "      <td>Precision</td>\n",
       "      <td>20</td>\n",
       "      <td>0.600000</td>\n",
       "      <td>Avg. Score</td>\n",
       "      <td>asthma</td>\n",
       "    </tr>\n",
       "    <tr>\n",
       "      <th>...</th>\n",
       "      <td>...</td>\n",
       "      <td>...</td>\n",
       "      <td>...</td>\n",
       "      <td>...</td>\n",
       "      <td>...</td>\n",
       "      <td>...</td>\n",
       "    </tr>\n",
       "    <tr>\n",
       "      <th>175</th>\n",
       "      <td>0.9</td>\n",
       "      <td>Average Precision</td>\n",
       "      <td>20</td>\n",
       "      <td>0.038439</td>\n",
       "      <td>Avg. Score</td>\n",
       "      <td>schizophrenia</td>\n",
       "    </tr>\n",
       "    <tr>\n",
       "      <th>176</th>\n",
       "      <td>0.9</td>\n",
       "      <td>Precision</td>\n",
       "      <td>50</td>\n",
       "      <td>0.080000</td>\n",
       "      <td>Avg. Score</td>\n",
       "      <td>schizophrenia</td>\n",
       "    </tr>\n",
       "    <tr>\n",
       "      <th>177</th>\n",
       "      <td>0.9</td>\n",
       "      <td>Average Precision</td>\n",
       "      <td>50</td>\n",
       "      <td>0.049480</td>\n",
       "      <td>Avg. Score</td>\n",
       "      <td>schizophrenia</td>\n",
       "    </tr>\n",
       "    <tr>\n",
       "      <th>178</th>\n",
       "      <td>0.9</td>\n",
       "      <td>Precision</td>\n",
       "      <td>100</td>\n",
       "      <td>0.070000</td>\n",
       "      <td>Avg. Score</td>\n",
       "      <td>schizophrenia</td>\n",
       "    </tr>\n",
       "    <tr>\n",
       "      <th>179</th>\n",
       "      <td>0.9</td>\n",
       "      <td>Average Precision</td>\n",
       "      <td>100</td>\n",
       "      <td>0.060797</td>\n",
       "      <td>Avg. Score</td>\n",
       "      <td>schizophrenia</td>\n",
       "    </tr>\n",
       "  </tbody>\n",
       "</table>\n",
       "<p>180 rows × 6 columns</p>\n",
       "</div>"
      ],
      "text/plain": [
       "     Alpha             Metric    K     Value      Method        Disease\n",
       "0      0.1          Precision    5  0.600000  Avg. Score         asthma\n",
       "1      0.1  Average Precision    5  0.503333  Avg. Score         asthma\n",
       "2      0.1          Precision   10  0.600000  Avg. Score         asthma\n",
       "3      0.1  Average Precision   10  0.510079  Avg. Score         asthma\n",
       "4      0.1          Precision   20  0.600000  Avg. Score         asthma\n",
       "..     ...                ...  ...       ...         ...            ...\n",
       "175    0.9  Average Precision   20  0.038439  Avg. Score  schizophrenia\n",
       "176    0.9          Precision   50  0.080000  Avg. Score  schizophrenia\n",
       "177    0.9  Average Precision   50  0.049480  Avg. Score  schizophrenia\n",
       "178    0.9          Precision  100  0.070000  Avg. Score  schizophrenia\n",
       "179    0.9  Average Precision  100  0.060797  Avg. Score  schizophrenia\n",
       "\n",
       "[180 rows x 6 columns]"
      ]
     },
     "execution_count": 6,
     "metadata": {},
     "output_type": "execute_result"
    }
   ],
   "source": [
    "folder = \"outputs/AVG_RWRs_gene_scores/\"\n",
    "results = []\n",
    "for disease in [\"asthma\", \"autism\", \"schizophrenia\"]:\n",
    "    # Load seeds\n",
    "    with open(\"processed_data/gene_seeds/{}_seeds_gene2ncbi.json\".format(disease), \"r\") as f:\n",
    "        disease_seeds_gene2ncbi = json.load(f)\n",
    "    gene_seeds = list(disease_seeds_gene2ncbi.values())\n",
    "    # disease_seeds_gene2ncbi\n",
    "    \n",
    "    # Load targets\n",
    "    with open(\"processed_data/gwas_catalog_targets/{}_targets_gene2ncbi.json\".format(disease), \"r\") as f:\n",
    "        catalog_targets_gene2ncbi = json.load(f)\n",
    "    ncbi_targets = list(catalog_targets_gene2ncbi.values())\n",
    "    print(len(ncbi_targets))\n",
    "    \n",
    "    flist = sorted(f for f in os.listdir(folder) if disease in f)\n",
    "    for fname in tqdm(flist):\n",
    "        if \"avg_score\" not in fname:\n",
    "            continue\n",
    "    #     print(fname)\n",
    "        ln = fname.split(\"_\")\n",
    "        a = ln[3].rsplit(\".\", 1)[0]\n",
    "        alpha = float(a.replace(\"alpha\", \"\"))\n",
    "\n",
    "        data = pd.read_csv(os.path.join(folder, fname))\n",
    "        if data.isna().any().any():\n",
    "            print(fname)\n",
    "            break\n",
    "        genes = [str(s) for s in data[\"Gene NCBI ID\"] if str(s) not in gene_seeds] #data[col].astype(str)\n",
    "        for k in K_values:\n",
    "            pak = precision_at_k(ncbi_targets, genes, k)\n",
    "#             rak = recall_at_k(ncbi_targets, genes, k)\n",
    "            apk = average_precision_at_k(ncbi_targets, genes, k)\n",
    "            results.append({\"Alpha\": alpha, \"Metric\": \"Precision\", \"K\": k, \"Value\": pak, \"Method\": \"Avg. Score\", \"Disease\": disease})\n",
    "#             results.append({\"Network\": network, \"Alpha\": alpha, \"Metric\": \"Recall\", \"K\": k, \"Value\": rak, \"Method\": \"Score\", \"Disease\": disease})\n",
    "            results.append({\"Alpha\": alpha, \"Metric\": \"Average Precision\", \"K\": k, \"Value\": apk, \"Method\": \"Avg. Score\", \"Disease\": disease})\n",
    "            \n",
    "results = pd.DataFrame(results)\n",
    "results.to_csv(\"outputs/results_AVG/AVG_score_gene_scores.csv\", index=False)\n",
    "results"
   ]
  },
  {
   "cell_type": "code",
   "execution_count": null,
   "metadata": {},
   "outputs": [],
   "source": []
  },
  {
   "cell_type": "code",
   "execution_count": null,
   "metadata": {},
   "outputs": [],
   "source": []
  }
 ],
 "metadata": {
  "kernelspec": {
   "display_name": "Python 3",
   "language": "python",
   "name": "python3"
  },
  "language_info": {
   "codemirror_mode": {
    "name": "ipython",
    "version": 3
   },
   "file_extension": ".py",
   "mimetype": "text/x-python",
   "name": "python",
   "nbconvert_exporter": "python",
   "pygments_lexer": "ipython3",
   "version": "3.7.9"
  }
 },
 "nbformat": 4,
 "nbformat_minor": 4
}
